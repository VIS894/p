{
 "cells": [
  {
   "cell_type": "code",
   "execution_count": null,
   "id": "90fb33ce",
   "metadata": {},
   "outputs": [],
   "source": [
    "##tpl = ordered,immutable ,allow duplicates\n",
    "##tpl = ()\n"
   ]
  },
  {
   "cell_type": "code",
   "execution_count": 10,
   "id": "c5611c28",
   "metadata": {},
   "outputs": [
    {
     "data": {
      "text/plain": [
       "5"
      ]
     },
     "execution_count": 10,
     "metadata": {},
     "output_type": "execute_result"
    }
   ],
   "source": [
    "tpl = (\"red\",\"blue\",\"green\",\"black\",1,2,2)\n",
    "#tpl.count(\"red\")\n",
    "tpl.index(2)\n",
    "\n",
    "#print(tpl)\n",
    "#print(type(tpl))"
   ]
  }
 ],
 "metadata": {
  "kernelspec": {
   "display_name": ".venv",
   "language": "python",
   "name": "python3"
  },
  "language_info": {
   "codemirror_mode": {
    "name": "ipython",
    "version": 3
   },
   "file_extension": ".py",
   "mimetype": "text/x-python",
   "name": "python",
   "nbconvert_exporter": "python",
   "pygments_lexer": "ipython3",
   "version": "3.11.9"
  }
 },
 "nbformat": 4,
 "nbformat_minor": 5
}
