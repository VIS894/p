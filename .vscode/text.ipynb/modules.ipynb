{
 "cells": [
  {
   "cell_type": "code",
   "execution_count": null,
   "id": "de511fa3",
   "metadata": {},
   "outputs": [],
   "source": [
    "##module -- importing other python files into curretn file\n",
    "#module is a single python file .py\n",
    "\n",
    "#types of Module\n",
    "#1. built in modules - os , datetime,re,math\n",
    "#2. third - party modules -- pandas ,numpy\n",
    "#3.user-defined modules"
   ]
  },
  {
   "cell_type": "code",
   "execution_count": null,
   "id": "3dab1ed5",
   "metadata": {},
   "outputs": [],
   "source": [
    "#import os \n",
    "#from functools import reduce"
   ]
  },
  {
   "cell_type": "code",
   "execution_count": null,
   "id": "6e0b3e50",
   "metadata": {},
   "outputs": [
    {
     "name": "stdout",
     "output_type": "stream",
     "text": [
      "7\n"
     ]
    }
   ],
   "source": [
    "from test import addfunction\n",
    "print(addfunction(3,4))"
   ]
  },
  {
   "cell_type": "code",
   "execution_count": null,
   "id": "a82924ff",
   "metadata": {},
   "outputs": [],
   "source": []
  }
 ],
 "metadata": {
  "kernelspec": {
   "display_name": ".venv",
   "language": "python",
   "name": "python3"
  },
  "language_info": {
   "codemirror_mode": {
    "name": "ipython",
    "version": 3
   },
   "file_extension": ".py",
   "mimetype": "text/x-python",
   "name": "python",
   "nbconvert_exporter": "python",
   "pygments_lexer": "ipython3",
   "version": "3.11.9"
  }
 },
 "nbformat": 4,
 "nbformat_minor": 5
}
