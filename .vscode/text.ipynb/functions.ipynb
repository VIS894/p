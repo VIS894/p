{
 "cells": [
  {
   "cell_type": "code",
   "execution_count": null,
   "id": "8931d1da",
   "metadata": {},
   "outputs": [],
   "source": [
    "#function -- block of code that is used to do repeated task and it will execute when run call it \n",
    "##2 type of functions \n",
    "##1 user defined functions \n",
    "#2 built in functions"
   ]
  },
  {
   "cell_type": "code",
   "execution_count": 3,
   "id": "7ae688cb",
   "metadata": {},
   "outputs": [
    {
     "name": "stdout",
     "output_type": "stream",
     "text": [
      "hello from the functioms \n"
     ]
    }
   ],
   "source": [
    "##user definde functiond\n",
    "def hello():\n",
    "    print(\"hello from the functioms \")\n",
    "\n",
    "hello() # call a functions"
   ]
  },
  {
   "cell_type": "code",
   "execution_count": 4,
   "id": "4d799517",
   "metadata": {},
   "outputs": [
    {
     "name": "stdout",
     "output_type": "stream",
     "text": [
      "3\n"
     ]
    }
   ],
   "source": [
    "def add():\n",
    "    a =1\n",
    "    b=2\n",
    "    c = a+b\n",
    "    print(c)\n",
    "add()"
   ]
  },
  {
   "cell_type": "code",
   "execution_count": null,
   "id": "aaa1fa0a",
   "metadata": {},
   "outputs": [
    {
     "name": "stdout",
     "output_type": "stream",
     "text": [
      "5\n"
     ]
    }
   ],
   "source": [
    "# parameter and argument\n",
    "#parameter is function create is use and pass value.\n",
    "#argrument call function is call pass the value.\n",
    "def add(a,b):\n",
    "    print(a+b)\n",
    "add(2,3)\n"
   ]
  },
  {
   "cell_type": "code",
   "execution_count": null,
   "id": "8331b22d",
   "metadata": {},
   "outputs": [
    {
     "name": "stdout",
     "output_type": "stream",
     "text": [
      "the youngest child is sohan\n"
     ]
    }
   ],
   "source": [
    "##arbitory argument -- args-- *\n",
    "def child(*kids):\n",
    "    print(\"the youngest child is \" + kids[2])\n",
    "child(\"mohan\",\"rohan\",\"sohan\")A"
   ]
  },
  {
   "cell_type": "code",
   "execution_count": 13,
   "id": "d8541bec",
   "metadata": {},
   "outputs": [
    {
     "name": "stdout",
     "output_type": "stream",
     "text": [
      "the youngest child id dkkl\n"
     ]
    }
   ],
   "source": [
    "##keyword argument -- \n",
    "def child(child1,child2,child3):\n",
    "    print(\"the youngest child id \" +child1)\n",
    "child(child3=\"vidh\",child2=\"fd\",child1=\"dkkl\")"
   ]
  },
  {
   "cell_type": "code",
   "execution_count": 21,
   "id": "ee26ff65",
   "metadata": {},
   "outputs": [
    {
     "name": "stdout",
     "output_type": "stream",
     "text": [
      "ny hobbycrickets\n",
      "ny hobbycodint\n"
     ]
    }
   ],
   "source": [
    "def hobby(name = \"codint\"):\n",
    "    print(\"ny hobby\" +name)\n",
    "hobby(\"crickets\")\n",
    "hobby()"
   ]
  },
  {
   "cell_type": "code",
   "execution_count": 23,
   "id": "cfc557eb",
   "metadata": {},
   "outputs": [
    {
     "name": "stdout",
     "output_type": "stream",
     "text": [
      "mohan\n",
      "rohan\n",
      "ram\n"
     ]
    }
   ],
   "source": [
    "def lst(name):\n",
    "    for i in name:\n",
    "        print(i)\n",
    "lst([\"mohan\",\"rohan\",\"ram\"])        "
   ]
  },
  {
   "cell_type": "code",
   "execution_count": 28,
   "id": "657f7884",
   "metadata": {},
   "outputs": [
    {
     "name": "stdout",
     "output_type": "stream",
     "text": [
      "3.25\n"
     ]
    }
   ],
   "source": [
    "## avy function\n",
    "def avg(num):\n",
    "    #print(\"aveage\" + sum(num)/len(num))\n",
    "    print(sum(num)/len(num))\n",
    "avg([1,3,4,5])\n"
   ]
  },
  {
   "cell_type": "code",
   "execution_count": 1,
   "id": "7e84976b",
   "metadata": {},
   "outputs": [],
   "source": [
    "##lambda function -- small anonymous functions \n",
    "#lambda arguments : expression\n"
   ]
  },
  {
   "cell_type": "code",
   "execution_count": 4,
   "metadata": {},
   "outputs": [
    {
     "data": {
      "text/plain": [
       "25"
      ]
     },
     "execution_count": 4,
     "metadata": {},
     "output_type": "execute_result"
    }
   ],
   "source": [
    "x = lambda a , b : a*a\n",
    "x(5,7)"
   ]
  },
  {
   "cell_type": "code",
   "execution_count": 10,
   "id": "82c87045",
   "metadata": {},
   "outputs": [
    {
     "name": "stdout",
     "output_type": "stream",
     "text": [
      "[1, 4, 9, 16, 25]\n"
     ]
    }
   ],
   "source": [
    "##map -- map (function , iteravble)\n",
    "# def sq(num):\n",
    "#     return num*num\n",
    "lst = [1,2,3,4,5]\n",
    "result = map(lambda num : num*num,lst)\n",
    "print(list(result))\n"
   ]
  },
  {
   "cell_type": "code",
   "execution_count": 12,
   "id": "c76c2d50",
   "metadata": {},
   "outputs": [
    {
     "name": "stdout",
     "output_type": "stream",
     "text": [
      "[2, 4]\n"
     ]
    }
   ],
   "source": [
    "lst = [1,2,3,4,5]\n",
    "result = filter(lambda num : num%2==0,lst)\n",
    "print(list(result))"
   ]
  },
  {
   "cell_type": "code",
   "execution_count": 15,
   "id": "c575cfe1",
   "metadata": {},
   "outputs": [
    {
     "name": "stdout",
     "output_type": "stream",
     "text": [
      "15\n"
     ]
    }
   ],
   "source": [
    "##reduce \n",
    "from functools import reduce\n",
    "lst = [1,2,3,4,5]\n",
    "\n",
    "result = reduce(lambda num1, num2 : num1+num2,lst)\n",
    "print(result)"
   ]
  },
  {
   "cell_type": "code",
   "execution_count": 18,
   "id": "0a4b21d8",
   "metadata": {},
   "outputs": [
    {
     "name": "stdout",
     "output_type": "stream",
     "text": [
      "[(3, 'mohan'), (4, 'rohan'), (5, 'vush')]\n"
     ]
    }
   ],
   "source": [
    "##enumerate \n",
    "lst = [\"mohan\",\"rohan\",\"vush\"]\n",
    "result = enumerate(lst,start=3)\n",
    "print(list(result))"
   ]
  },
  {
   "cell_type": "code",
   "execution_count": 19,
   "id": "13e732dd",
   "metadata": {},
   "outputs": [
    {
     "name": "stdout",
     "output_type": "stream",
     "text": [
      "[('mi', 1), ('eo', 2), ('dk', 3)]\n"
     ]
    }
   ],
   "source": [
    "##zip function -- it is used to combine two or more iterable\n",
    "lst1 = [\"mi\",\"eo\",\"dk\"]\n",
    "lst2 = [1,2,3]\n",
    "result = zip(lst1,lst2)\n",
    "print(list(result))"
   ]
  },
  {
   "cell_type": "code",
   "execution_count": null,
   "id": "05155b8f",
   "metadata": {},
   "outputs": [
    {
     "name": "stdout",
     "output_type": "stream",
     "text": [
      "[('mi', 1), ('eo', 2)]\n"
     ]
    }
   ],
   "source": [
    "##zip function -- it is used to combine two or more iterable\n",
    "lst1 = [\"mi\",\"eo\",\"dk\"]\n",
    "lst2 = [1,2,3]\n",
    "result = zip(lst1,lst2)\n",
    "print(list(result))"
   ]
  },
  {
   "cell_type": "code",
   "execution_count": 25,
   "id": "e4fe41ca",
   "metadata": {},
   "outputs": [
    {
     "name": "stdout",
     "output_type": "stream",
     "text": [
      "('mi', 'eo', 'dk')\n",
      "(1, 2, 3)\n"
     ]
    }
   ],
   "source": [
    "ziped = [('mi', 1), ('eo', 2), ('dk', 3)]\n",
    "result , number = zip(*ziped)\n",
    "print(result)\n",
    "print(number)\n"
   ]
  }
 ],
 "metadata": {
  "kernelspec": {
   "display_name": ".venv",
   "language": "python",
   "name": "python3"
  },
  "language_info": {
   "codemirror_mode": {
    "name": "ipython",
    "version": 3
   },
   "file_extension": ".py",
   "mimetype": "text/x-python",
   "name": "python",
   "nbconvert_exporter": "python",
   "pygments_lexer": "ipython3",
   "version": "3.11.9"
  }
 },
 "nbformat": 4,
 "nbformat_minor": 5
}
