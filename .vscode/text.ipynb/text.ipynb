{
 "cells": [
  {
   "cell_type": "code",
   "execution_count": null,
   "id": "dd024ff3",
   "metadata": {},
   "outputs": [],
   "source": [
    "##list -- ordered ,multiple allow duplicate values,hetrogeneous"
   ]
  },
  {
   "cell_type": "code",
   "execution_count": 2,
   "id": "d752aab2",
   "metadata": {},
   "outputs": [
    {
     "name": "stdout",
     "output_type": "stream",
     "text": [
      "hell\n"
     ]
    }
   ],
   "source": [
    "print(\"hell\")"
   ]
  },
  {
   "cell_type": "code",
   "execution_count": 1,
   "id": "6234c8a6",
   "metadata": {},
   "outputs": [
    {
     "name": "stdout",
     "output_type": "stream",
     "text": [
      "[1, 2, 'hello', True, 33.33, 'hello']\n",
      "<class 'list'>\n"
     ]
    }
   ],
   "source": [
    "lst = [1,2,\"hello\",True ,33.33,\"hello\"]\n",
    "print(lst)\n",
    "print(type(lst))"
   ]
  },
  {
   "cell_type": "code",
   "execution_count": 20,
   "id": "decefe78",
   "metadata": {},
   "outputs": [
    {
     "name": "stdout",
     "output_type": "stream",
     "text": [
      "[20, 'hello', 'green', 'blue']\n"
     ]
    }
   ],
   "source": [
    "lst = [\"red\",\"black\",\"green\",\"blue\"]\n",
    "lst[0:2]=[20,\"hello\"]\n",
    "\n",
    "\n",
    "print(lst)"
   ]
  },
  {
   "cell_type": "code",
   "execution_count": 26,
   "id": "146f2790",
   "metadata": {},
   "outputs": [
    {
     "name": "stdout",
     "output_type": "stream",
     "text": [
      "[10, 20, [30, 40, [50, ['vi']], 70], 80]\n"
     ]
    }
   ],
   "source": [
    "lst = [10,20,[30,40,[50,60],70],80]\n",
    "lst[2][2][1] = [\"vi\"]\n",
    "print(lst)"
   ]
  },
  {
   "cell_type": "code",
   "execution_count": 53,
   "id": "04f3c7ae",
   "metadata": {},
   "outputs": [
    {
     "data": {
      "text/plain": [
       "['blue', 'green', 'black', 'red']"
      ]
     },
     "execution_count": 53,
     "metadata": {},
     "output_type": "execute_result"
    }
   ],
   "source": [
    "lst = [\"red\", \"black\",\"green\",\"blue\"]\n",
    "# lst.index(\"red\")\n",
    "# lst2 =lst.copy()\n",
    "# lst2\n",
    "# lst.insert(2,\"white\")\n",
    "# lst\n",
    "# lst.extend([\"whte\",\"gkora\"])\n",
    "# lst\n",
    "# lst.remove(\"black\")\n",
    "#lst.sort(reverse=True)\n",
    "lst[::-1]\n"
   ]
  }
 ],
 "metadata": {
  "kernelspec": {
   "display_name": ".venv",
   "language": "python",
   "name": "python3"
  },
  "language_info": {
   "codemirror_mode": {
    "name": "ipython",
    "version": 3
   },
   "file_extension": ".py",
   "mimetype": "text/x-python",
   "name": "python",
   "nbconvert_exporter": "python",
   "pygments_lexer": "ipython3",
   "version": "3.11.9"
  }
 },
 "nbformat": 4,
 "nbformat_minor": 5
}
