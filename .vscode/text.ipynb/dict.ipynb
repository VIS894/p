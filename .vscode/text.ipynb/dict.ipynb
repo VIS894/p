{
 "cells": [
  {
   "cell_type": "code",
   "execution_count": null,
   "id": "0572867e",
   "metadata": {},
   "outputs": [],
   "source": [
    "##dict -- key value pair\n",
    "##dict --- {}\n",
    "##dict - ordered  , mutavble and do not allow duplication "
   ]
  },
  {
   "cell_type": "code",
   "execution_count": 5,
   "id": "39c3eedc",
   "metadata": {},
   "outputs": [
    {
     "name": "stdout",
     "output_type": "stream",
     "text": [
      "{'name': ['hello', 'vishal'], 'age': {'age1': 10, 'age2': 40}, 'hobby': 'coding'}\n",
      "<class 'dict'>\n"
     ]
    }
   ],
   "source": [
    "dit ={\n",
    "    \"name\":[\"hello\",\"vishal\"],\n",
    "    \"age\":20,\n",
    "    \"hobby\":\"coding\",\n",
    "    \"age\":{\"age1\":10,\"age2\" :40}\n",
    "}\n",
    "print(dit)\n",
    "print(type(dit))"
   ]
  },
  {
   "cell_type": "code",
   "execution_count": 9,
   "id": "e8d91e42",
   "metadata": {},
   "outputs": [
    {
     "data": {
      "text/plain": [
       "{'name': ['hello', 'vishal'],\n",
       " 'age': {'age1': 10, 'age2': 40},\n",
       " 'hobby': 'cricket'}"
      ]
     },
     "execution_count": 9,
     "metadata": {},
     "output_type": "execute_result"
    }
   ],
   "source": [
    "dit[\"hobby\"] =\"cricket\"\n",
    "dit"
   ]
  },
  {
   "cell_type": "code",
   "execution_count": 21,
   "id": "e6eea5bf",
   "metadata": {},
   "outputs": [
    {
     "data": {
      "text/plain": [
       "{'name': 'vishal', 'age': 30, 'hobby': 'cricket', 'class': '12th'}"
      ]
     },
     "execution_count": 21,
     "metadata": {},
     "output_type": "execute_result"
    }
   ],
   "source": [
    "dit ={\n",
    "    \"name\":\"vishal\",\n",
    "    \"age\":20,\n",
    "    \"hobby\":\"coding\",\n",
    "    \"age\":30\n",
    "}\n",
    "#dit.get(\"age\n",
    "# dit.keys()\n",
    "# dit.values()\n",
    "#\n",
    "#dit.pop(\"name\")\n",
    "#dit.popitem()\n",
    "dit.update({\"hobby\":\"cricket\",\"class\":\"12th\"})\n",
    "dit\n"
   ]
  },
  {
   "cell_type": "code",
   "execution_count": 23,
   "id": "e59c7f0c",
   "metadata": {},
   "outputs": [
    {
     "name": "stdout",
     "output_type": "stream",
     "text": [
      "{'a': 1, 'b': 3}\n"
     ]
    }
   ],
   "source": [
    "dit = {\"a\":1}\n",
    "value = dit.setdefault(\"b\",3)\n",
    "print(dit)"
   ]
  },
  {
   "cell_type": "code",
   "execution_count": 25,
   "id": "6bcd6166",
   "metadata": {},
   "outputs": [
    {
     "name": "stdout",
     "output_type": "stream",
     "text": [
      "{'v': 10, 'i': 10, 's': 10, 'h': 10, 'a': 10, 'l': 10}\n"
     ]
    }
   ],
   "source": [
    "#fromkeys\n",
    "dt = {}.fromkeys(\"vishal\",10)\n",
    "print(dt)"
   ]
  }
 ],
 "metadata": {
  "kernelspec": {
   "display_name": ".venv",
   "language": "python",
   "name": "python3"
  },
  "language_info": {
   "codemirror_mode": {
    "name": "ipython",
    "version": 3
   },
   "file_extension": ".py",
   "mimetype": "text/x-python",
   "name": "python",
   "nbconvert_exporter": "python",
   "pygments_lexer": "ipython3",
   "version": "3.11.9"
  }
 },
 "nbformat": 4,
 "nbformat_minor": 5
}
