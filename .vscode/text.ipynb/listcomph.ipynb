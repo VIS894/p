{
 "cells": [
  {
   "cell_type": "code",
   "execution_count": null,
   "id": "e9be2ad7",
   "metadata": {},
   "outputs": [],
   "source": [
    "## ist compreshension is a way to create a new list with less syntax\n",
    "#[ expression/output for loop condition]"
   ]
  },
  {
   "cell_type": "code",
   "execution_count": 1,
   "id": "eab316f9",
   "metadata": {},
   "outputs": [
    {
     "name": "stdout",
     "output_type": "stream",
     "text": [
      "['RED', 'BLUE', 'GREEN', 'BLACK']\n"
     ]
    }
   ],
   "source": [
    "lst = [\"red\",\"blue\",\"green\",\"black\"]\n",
    "newlist =[i.upper() for i in lst]\n",
    "print(newlist)"
   ]
  },
  {
   "cell_type": "code",
   "execution_count": 5,
   "id": "b2a7a989",
   "metadata": {},
   "outputs": [
    {
     "name": "stdout",
     "output_type": "stream",
     "text": [
      "[2, 4]\n"
     ]
    }
   ],
   "source": [
    "lst = [1,2,3,4,5]\n",
    "newlist =[i for i in lst if i%2 == 0]\n",
    "print(newlist)"
   ]
  },
  {
   "cell_type": "code",
   "execution_count": 6,
   "id": "22627613",
   "metadata": {},
   "outputs": [
    {
     "name": "stdout",
     "output_type": "stream",
     "text": [
      "['r', 'b', 'g', 'b']\n"
     ]
    }
   ],
   "source": [
    "#generate with  the first letter of the elements\n",
    "lst = [\"red\",\"blue\",\"green\",\"black\"]\n",
    "result = [word[0] for word in lst]\n",
    "print(result)\n",
    "\n"
   ]
  },
  {
   "cell_type": "code",
   "execution_count": 7,
   "id": "ce9eab83",
   "metadata": {},
   "outputs": [
    {
     "name": "stdout",
     "output_type": "stream",
     "text": [
      "[1, 2, 3, 4, 5, 6, 7, 8, 9]\n"
     ]
    }
   ],
   "source": [
    "##flatttering a list\n",
    "lst = [[1,2,3],[4,5,6],[7,8,9]]\n",
    "result = [item for sublist in lst for item in sublist]\n",
    "print(result)"
   ]
  }
 ],
 "metadata": {
  "kernelspec": {
   "display_name": ".venv",
   "language": "python",
   "name": "python3"
  },
  "language_info": {
   "codemirror_mode": {
    "name": "ipython",
    "version": 3
   },
   "file_extension": ".py",
   "mimetype": "text/x-python",
   "name": "python",
   "nbconvert_exporter": "python",
   "pygments_lexer": "ipython3",
   "version": "3.11.9"
  }
 },
 "nbformat": 4,
 "nbformat_minor": 5
}
