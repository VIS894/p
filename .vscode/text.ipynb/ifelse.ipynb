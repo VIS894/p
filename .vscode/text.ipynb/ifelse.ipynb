{
 "cells": [
  {
   "cell_type": "code",
   "execution_count": 13,
   "id": "e3023ee8",
   "metadata": {},
   "outputs": [
    {
     "name": "stdout",
     "output_type": "stream",
     "text": [
      "b is less than a\n"
     ]
    }
   ],
   "source": [
    "##conditional statements --> if,elif,else\n",
    "a= 10\n",
    "b = 20\n",
    "c= 30\n",
    "\n",
    "if not(b>a and a<c):\n",
    "\n",
    "    print(\"b is greater than a and a is less than c\")\n",
    "\n",
    "else:\n",
    "    print(\"b is less than a\")    "
   ]
  },
  {
   "cell_type": "code",
   "execution_count": 24,
   "id": "a27b7374",
   "metadata": {},
   "outputs": [
    {
     "name": "stdout",
     "output_type": "stream",
     "text": [
      "proper answerr\n"
     ]
    }
   ],
   "source": [
    "a = int(input(\"entr tge\"))\n",
    "if a>0:\n",
    "    if a%5== 0 and a%7 == 0:\n",
    "        print(\"a is divisible\")\n",
    "    else:\n",
    "        print(\"a is not divisible\")    \n",
    "else:\n",
    "    print(\"proper answerr\")\n"
   ]
  },
  {
   "cell_type": "code",
   "execution_count": null,
   "metadata": {},
   "outputs": [],
   "source": [
    "a = int(input(\"entr tge\"))\n",
    "if a>0:\n",
    "    if a%4 == 0:\n",
    "        "
   ]
  },
  {
   "cell_type": "code",
   "execution_count": 30,
   "id": "3d3247d4",
   "metadata": {},
   "outputs": [
    {
     "name": "stdout",
     "output_type": "stream",
     "text": [
      "red blue green bladk "
     ]
    }
   ],
   "source": [
    "#for and while loop\n",
    "#fkor loop -- iterating over a sepuence (lst, tuple, string)\n",
    "#string\n",
    "# for i in \"hello\":\n",
    "#     print(i)\n",
    "    ## list \n",
    "lst = [\"red\",\"blue\",\"green\",\"bladk\"]\n",
    "for i in lst:\n",
    "        print( i, end=\" \")"
   ]
  },
  {
   "cell_type": "code",
   "execution_count": 37,
   "id": "57549d97",
   "metadata": {},
   "outputs": [
    {
     "name": "stdout",
     "output_type": "stream",
     "text": [
      "name ----- ['hello', 'vishal']\n",
      "age ----- {'age1': 10, 'age2': 40}\n",
      "hobby ----- coding\n"
     ]
    }
   ],
   "source": [
    "dit ={\n",
    "    \"name\":[\"hello\",\"vishal\"],\n",
    "    \"age\":20,\n",
    "    \"hobby\":\"coding\",\n",
    "    \"age\":{\"age1\":10,\"age2\" :40}\n",
    "}\n",
    "for i , y in dit.items():\n",
    "  print(i,\"-----\",y)"
   ]
  },
  {
   "cell_type": "code",
   "execution_count": 40,
   "id": "cc4ca57f",
   "metadata": {},
   "outputs": [
    {
     "name": "stdout",
     "output_type": "stream",
     "text": [
      "2\n",
      "4\n",
      "6\n"
     ]
    }
   ],
   "source": [
    "for i in range(2,8,2):\n",
    "    print(i)"
   ]
  },
  {
   "cell_type": "code",
   "execution_count": 43,
   "id": "eb3d77d9",
   "metadata": {},
   "outputs": [
    {
     "name": "stdout",
     "output_type": "stream",
     "text": [
      "1 red \n",
      "----\n",
      "1 blue\n",
      "----\n",
      "1 green\n",
      "----\n",
      "2 red \n",
      "----\n",
      "2 blue\n",
      "----\n",
      "2 green\n",
      "----\n",
      "3 red \n",
      "----\n",
      "3 blue\n",
      "----\n",
      "3 green\n",
      "----\n"
     ]
    }
   ],
   "source": [
    "##nested forlooop\n",
    "lst1 = [1,2,3]\n",
    "lst2 = [\"red \",\"blue\",\"green\"]\n",
    "for i in lst1:\n",
    "    for j in lst2:\n",
    "        print(i,j)\n",
    "        print(\"----\")\n"
   ]
  },
  {
   "cell_type": "code",
   "execution_count": null,
   "id": "459cdaf7",
   "metadata": {},
   "outputs": [
    {
     "name": "stdout",
     "output_type": "stream",
     "text": [
      "1\n",
      "2\n",
      "3\n",
      "4\n"
     ]
    }
   ],
   "source": [
    "##break \n",
    "for i in range(1,10):\n",
    "    if i == 5:\n",
    "        break\n",
    "    print(i)\n"
   ]
  },
  {
   "cell_type": "code",
   "execution_count": 46,
   "id": "b8b337b5",
   "metadata": {},
   "outputs": [
    {
     "name": "stdout",
     "output_type": "stream",
     "text": [
      "1\n",
      "2\n",
      "3\n",
      "4\n",
      "6\n",
      "7\n",
      "8\n",
      "9\n"
     ]
    }
   ],
   "source": [
    "## continue\n",
    "for i in range(1,10):\n",
    "    if i == 5:\n",
    "        continue\n",
    "    print(i)\n"
   ]
  },
  {
   "cell_type": "code",
   "execution_count": 48,
   "id": "b7de0299",
   "metadata": {},
   "outputs": [],
   "source": [
    "##pass\n",
    "for i in range(1,10):\n",
    "    pass"
   ]
  },
  {
   "cell_type": "markdown",
   "id": "79a3b396",
   "metadata": {},
   "source": [
    "##you have to square the given list and print the result in a  list"
   ]
  },
  {
   "cell_type": "code",
   "execution_count": 50,
   "id": "129216af",
   "metadata": {},
   "outputs": [
    {
     "name": "stdout",
     "output_type": "stream",
     "text": [
      "[1, 4, 9, 16]\n"
     ]
    }
   ],
   "source": [
    "lst = [1,2,3,4]\n",
    "squared = [x**2 for x in lst]\n",
    "print(squared)"
   ]
  },
  {
   "cell_type": "code",
   "execution_count": 51,
   "metadata": {},
   "outputs": [
    {
     "name": "stdout",
     "output_type": "stream",
     "text": [
      "[1]\n",
      "[1, 4]\n",
      "[1, 4, 9]\n",
      "[1, 4, 9, 16]\n",
      "[1, 4, 9, 16, 25]\n"
     ]
    }
   ],
   "source": [
    "lst = [1,2,3,4,5]\n",
    "lst1 =[]\n",
    "for i in lst:\n",
    "    lst1.append(i**2)\n",
    "    print(lst1)"
   ]
  },
  {
   "cell_type": "code",
   "execution_count": 54,
   "id": "ee39cf52",
   "metadata": {},
   "outputs": [
    {
     "name": "stdout",
     "output_type": "stream",
     "text": [
      "1\n",
      "2\n",
      "3\n",
      "4\n",
      "5\n",
      "6\n",
      "7\n",
      "8\n",
      "9\n",
      "10\n"
     ]
    }
   ],
   "source": [
    "##while loop\n",
    "i = 1\n",
    "while i<=10:\n",
    "    print(i)\n",
    "    i+=1\n"
   ]
  },
  {
   "cell_type": "code",
   "execution_count": 62,
   "id": "96d5851d",
   "metadata": {},
   "outputs": [
    {
     "name": "stdout",
     "output_type": "stream",
     "text": [
      "10\n",
      "9\n",
      "8\n",
      "7\n",
      "6\n",
      "5\n"
     ]
    }
   ],
   "source": [
    "#for i in range(1,11):\n",
    "i = 10\n",
    "while i>=5:\n",
    "\n",
    "    print(i)\n",
    "    i-=1\n",
    "    "
   ]
  },
  {
   "cell_type": "code",
   "execution_count": 1,
   "id": "92c683ea",
   "metadata": {},
   "outputs": [
    {
     "name": "stdout",
     "output_type": "stream",
     "text": [
      "The sum is: 55\n"
     ]
    }
   ],
   "source": [
    "##find the sum of  numbers from 1 to 10 using while loop\n",
    "# Initialize variables\n",
    "num = 1\n",
    "total = 0\n",
    "\n",
    "# Use while loop to add numbers from 1 to 10\n",
    "while num <= 10:\n",
    "    total += num\n",
    "    num += 1\n",
    "\n",
    "# Print the result\n",
    "print(\"The sum is:\", total)\n"
   ]
  },
  {
   "cell_type": "code",
   "execution_count": null,
   "id": "f589021b",
   "metadata": {},
   "outputs": [],
   "source": []
  }
 ],
 "metadata": {
  "kernelspec": {
   "display_name": ".venv",
   "language": "python",
   "name": "python3"
  },
  "language_info": {
   "codemirror_mode": {
    "name": "ipython",
    "version": 3
   },
   "file_extension": ".py",
   "mimetype": "text/x-python",
   "name": "python",
   "nbconvert_exporter": "python",
   "pygments_lexer": "ipython3",
   "version": "3.11.9"
  }
 },
 "nbformat": 4,
 "nbformat_minor": 5
}
