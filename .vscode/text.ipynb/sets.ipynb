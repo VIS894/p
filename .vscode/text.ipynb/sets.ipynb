{
 "cells": [
  {
   "cell_type": "code",
   "execution_count": null,
   "id": "08581ea5",
   "metadata": {},
   "outputs": [],
   "source": [
    "##sets -{}\n",
    "##unordered, unindexed , no duplicates"
   ]
  },
  {
   "cell_type": "code",
   "execution_count": 4,
   "id": "09e789e2",
   "metadata": {},
   "outputs": [
    {
     "name": "stdout",
     "output_type": "stream",
     "text": [
      "{True, 2, 4, 'hello'}\n",
      "<class 'set'>\n"
     ]
    }
   ],
   "source": [
    "st = {2,4,\"hello\",True,\"hello\"}\n",
    "print(st)\n",
    "print(type(st))"
   ]
  },
  {
   "cell_type": "code",
   "execution_count": 10,
   "id": "6e6270e8",
   "metadata": {},
   "outputs": [
    {
     "name": "stdout",
     "output_type": "stream",
     "text": [
      "{2, 3, 4, 5}\n"
     ]
    }
   ],
   "source": [
    "#st.add(\"vishal\")\n",
    "#st.update([1,3,2,4,5])\n",
    "#st.remove(\"vishal\")\n",
    "#st.pop()\n",
    "st.discard(\"hello\")\n",
    "print(st)\n"
   ]
  },
  {
   "cell_type": "code",
   "execution_count": 5,
   "id": "b9329c51",
   "metadata": {},
   "outputs": [
    {
     "name": "stdout",
     "output_type": "stream",
     "text": [
      "{1, 2, 3}\n",
      "set()\n"
     ]
    }
   ],
   "source": [
    "a = {1,2,3}\n",
    "b = {3,4,5}\n",
    "# print(a.union(b))\n",
    "# print(a.intersection(b))\n",
    "##differece \n",
    "## return the element infirst set that are not in second set\n",
    "# print(a.difference(b))\n",
    "# print(b.difference(a))\n",
    "##symmetric difference\n",
    "#return the elements in either set but but not both \n",
    "#print(a.symmetric_difference(b))\n",
    "##subset \n",
    "##check if all the elements of one set arenin another setp\n",
    "#print(a.issubset(b))\n",
    "#elements of another\n",
    "#print(a.issuperset(b))\n",
    "#disjoint --check if two sets of have no common elemens \n",
    "#print(a.isdisjoint(b))\n",
    "##intersection_update \n",
    "#update \n",
    "# print(a.intersection_update(b))\n",
    "# print(a.difference_update(b))\n",
    "# \n",
    "b.intersection_update(a)\n",
    "print(a)\n",
    "b.difference_update(a)\n",
    "print(b)"
   ]
  }
 ],
 "metadata": {
  "kernelspec": {
   "display_name": ".venv",
   "language": "python",
   "name": "python3"
  },
  "language_info": {
   "codemirror_mode": {
    "name": "ipython",
    "version": 3
   },
   "file_extension": ".py",
   "mimetype": "text/x-python",
   "name": "python",
   "nbconvert_exporter": "python",
   "pygments_lexer": "ipython3",
   "version": "3.11.9"
  }
 },
 "nbformat": 4,
 "nbformat_minor": 5
}
