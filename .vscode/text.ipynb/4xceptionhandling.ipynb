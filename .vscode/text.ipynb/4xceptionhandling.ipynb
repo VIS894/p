{
 "cells": [
  {
   "cell_type": "code",
   "execution_count": null,
   "id": "09c7969d",
   "metadata": {},
   "outputs": [],
   "source": [
    "##error handling\n",
    "## 4 type of blocks --> try , except ,else ,finally \n",
    "## try -- try block is used tok test a bolck      \n",
    "## except \n",
    "## else == else vlock is used to define a bloxk o f code to be executed\n",
    "\n",
    "## finally == finally block is used to define a block o f code to be executed:\n"
   ]
  },
  {
   "cell_type": "code",
   "execution_count": 3,
   "id": "42bf86d0",
   "metadata": {},
   "outputs": [
    {
     "name": "stdout",
     "output_type": "stream",
     "text": [
      "division by zero\n",
      "finally block\n"
     ]
    }
   ],
   "source": [
    "##zero division error\n",
    "try:\n",
    "    print(10/0)\n",
    "except Exception as e:\n",
    "    print(e)\n",
    "    #print(\"zero division erroe\")\n",
    "else:\n",
    "    print(\"else block\")\n",
    "finally:\n",
    "    print(\"finally block\")"
   ]
  },
  {
   "cell_type": "code",
   "execution_count": null,
   "id": "fa11dfca",
   "metadata": {},
   "outputs": [
    {
     "name": "stdout",
     "output_type": "stream",
     "text": [
      "Error: Index out of range.\n"
     ]
    }
   ],
   "source": [
    "#index error\n",
    "list = [1, 2, 3]\n",
    "try:\n",
    "    print(list[5])\n",
    "except IndexError:\n",
    "    print(\"Error: Index out of range.\")"
   ]
  }
 ],
 "metadata": {
  "kernelspec": {
   "display_name": ".venv",
   "language": "python",
   "name": "python3"
  },
  "language_info": {
   "codemirror_mode": {
    "name": "ipython",
    "version": 3
   },
   "file_extension": ".py",
   "mimetype": "text/x-python",
   "name": "python",
   "nbconvert_exporter": "python",
   "pygments_lexer": "ipython3",
   "version": "3.11.9"
  }
 },
 "nbformat": 4,
 "nbformat_minor": 5
}
