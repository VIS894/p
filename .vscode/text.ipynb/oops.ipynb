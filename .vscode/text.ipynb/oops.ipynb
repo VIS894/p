{
 "cells": [
  {
   "cell_type": "code",
   "execution_count": null,
   "id": "74c43a6b",
   "metadata": {},
   "outputs": [],
   "source": [
    "## class , object, method\n",
    "## 4 types of oops\n",
    "## inheristance --  single , multiple , multilevel , hyperachical ,hybrid\n",
    "# , polymorphism , encapsulation "
   ]
  },
  {
   "cell_type": "code",
   "execution_count": null,
   "id": "d49cf10f",
   "metadata": {},
   "outputs": [],
   "source": [
    "#class - blueprint of object \n",
    "## object - instance of class"
   ]
  },
  {
   "cell_type": "code",
   "execution_count": 1,
   "id": "ac0bf4ed",
   "metadata": {},
   "outputs": [
    {
     "data": {
      "text/plain": [
       "40"
      ]
     },
     "execution_count": 1,
     "metadata": {},
     "output_type": "execute_result"
    }
   ],
   "source": [
    "class car:\n",
    "    num1 =10\n",
    "    num2 = 30\n",
    "    Name= \"avd\"\n",
    "    Module = \"xyz\"\n",
    "    def add(self):\n",
    "        return self.num1 + self.num2\n",
    "    def display(self):\n",
    "        return self.Name , self.Module\n",
    "    #obj == object \n",
    "\n",
    "obj =car()\n",
    "obj.add()\n",
    "#obj.display()\n",
    "\n"
   ]
  },
  {
   "cell_type": "code",
   "execution_count": 3,
   "id": "0881ab60",
   "metadata": {},
   "outputs": [
    {
     "data": {
      "text/plain": [
       "('lion', 10)"
      ]
     },
     "execution_count": 3,
     "metadata": {},
     "output_type": "execute_result"
    }
   ],
   "source": [
    "##init -- constructor -- initialize the variable \n",
    "class animal:\n",
    "    def __init__(self,Name,age):\n",
    "        self.name = Name\n",
    "        self.age = age\n",
    "    def display(self):\n",
    "            return self.name ,self.age\n",
    "        \n",
    "\n",
    "obj = animal(\"lion\",10)\n",
    "obj.display()\n",
    "\n",
    "            \n"
   ]
  },
  {
   "cell_type": "code",
   "execution_count": 6,
   "id": "9901f463",
   "metadata": {},
   "outputs": [
    {
     "name": "stdout",
     "output_type": "stream",
     "text": [
      "Car\n",
      "bike\n"
     ]
    }
   ],
   "source": [
    "##inheritance -- sigle , multiple multilevel , hyerarchical\n",
    "#single inheritance\n",
    "class Car:\n",
    "    def display(self):\n",
    "        return \"Car\"\n",
    "class bike(Car):\n",
    "    def show(self):\n",
    "        return \"bike\" \n",
    "obj = bike()  \n",
    "print(obj.display())\n",
    "print(obj.show()) "
   ]
  },
  {
   "cell_type": "code",
   "execution_count": 11,
   "id": "2ce41238",
   "metadata": {},
   "outputs": [],
   "source": [
    "class person:\n",
    "    def __init__(self,name):\n",
    "     self.name = name\n",
    "    def show (self): \n",
    "     return self.name\n",
    "class employee(person):\n",
    "   def __init__(self, name,salary):\n",
    "      super(). __init__(name)\n",
    "      self.salary = salary\n",
    "obj = employee(\"abc\",1000)\n",
    "obj.show()\n",
    "\n",
    "class job :\n",
    "  def __init__(self,salary):\n",
    "    self.salary = salary\n",
    "class employeepersonjob(employee,job):\n",
    "  def __init__(self, name, salary):\n",
    "    employee.__init__(name, salary)   \n",
    "    job.__init__(self , salary)\n",
    "\n",
    "         "
   ]
  },
  {
   "cell_type": "code",
   "execution_count": 15,
   "id": "512caab0",
   "metadata": {},
   "outputs": [],
   "source": [
    "##multilevel -- A---B---C\n",
    "class person:\n",
    "    def __init__(self,name):\n",
    "     self.name = name\n",
    "    def show (self): \n",
    "     return self.name\n",
    "class employee(person):\n",
    "   def __init__(self, name,salary):\n",
    "      super(). __init__(name)\n",
    "      self.salary = salary\n",
    "obj = employee(\"abc\",1000)\n",
    "obj.show()\n",
    "\n",
    "\n",
    "class employeepersonjob(employee):\n",
    "  def __init__(self, name, salary):\n",
    "    employee.__init__(name, salary)\n",
    "\n",
    "       "
   ]
  },
  {
   "cell_type": "code",
   "execution_count": 25,
   "id": "a0963435",
   "metadata": {},
   "outputs": [
    {
     "name": "stdout",
     "output_type": "stream",
     "text": [
      "bark\n"
     ]
    }
   ],
   "source": [
    "##polymorphism -- many forms the sane functions or method beahve differentlu based on tht input.\n",
    "class Cat:\n",
    "    def sound(self):\n",
    "        return \"meow\"\n",
    "class Dog:\n",
    "    def sound(self):\n",
    "        return \"bark\"\n",
    "    \n",
    "def make_sound(animal):\n",
    "    return animal.sound()\n",
    "cat = Cat()\n",
    "dog = Dog()\n",
    "\n",
    "print(make_sound(dog))"
   ]
  },
  {
   "cell_type": "code",
   "execution_count": 26,
   "metadata": {},
   "outputs": [
    {
     "name": "stdout",
     "output_type": "stream",
     "text": [
      "Circle area: 78.5\n",
      "Rectangle area: 24\n",
      "Triangle area: 12.0\n"
     ]
    }
   ],
   "source": [
    "\n",
    "class Shape:\n",
    "    def area(self):\n",
    "        return \"Area not defined for generic shape\"\n",
    "\n",
    "\n",
    "class Circle(Shape):\n",
    "    def __init__(self, radius):\n",
    "        self.radius = radius\n",
    "\n",
    "    def area(self):\n",
    "        return 3.14 * self.radius * self.radius\n",
    "\n",
    "\n",
    "\n",
    "\n",
    "class Rectangle(Shape):\n",
    "    def __init__(self, length, width):\n",
    "        self.length = length\n",
    "        self.width = width\n",
    "\n",
    "    def area(self):\n",
    "        return self.length * self.width\n",
    "\n",
    "\n",
    "class Triangle(Shape):\n",
    "    def __init__(self, base, height):\n",
    "        self.base = base\n",
    "        self.height = height\n",
    "\n",
    "    def area(self):\n",
    "        return 0.5 * self.base * self.height\n",
    "\n",
    "\n",
    "shapes = [\n",
    "    Circle(5),\n",
    "    Rectangle(4, 6),\n",
    "    Triangle(3, 8)\n",
    "]\n",
    "\n",
    "for shape in shapes:\n",
    "    print(f\"{shape.__class__.__name__} area:\", shape.area())\n",
    "\n",
    "            "
   ]
  },
  {
   "cell_type": "code",
   "execution_count": null,
   "id": "2c337808",
   "metadata": {},
   "outputs": [],
   "source": [
    "##encapsulation \n",
    "# it MWEba hiding the internal details of a class and \n",
    "#protecting  data from being access or modified directory by the \n",
    "# outside world 3\n",
    "## cannot be accessible inside the class "
   ]
  },
  {
   "cell_type": "code",
   "execution_count": 35,
   "id": "a8736eb5",
   "metadata": {},
   "outputs": [
    {
     "data": {
      "text/plain": [
       "400"
      ]
     },
     "execution_count": 35,
     "metadata": {},
     "output_type": "execute_result"
    }
   ],
   "source": [
    "class student:\n",
    "    def __init__(self,name,marks):\n",
    "        self.name  = name\n",
    "        self.__marks = marks\n",
    "    def get_marks(self):\n",
    "        return self.__marks    \n",
    "    def set_marks(self,marks):\n",
    "        if 0 <= marks <= 100:\n",
    "            self.__marks = marks\n",
    "        else:\n",
    "         print(\"invalid\")    \n",
    "s = student(\"CCD\",400)\n",
    "s._student__marks                "
   ]
  }
 ],
 "metadata": {
  "kernelspec": {
   "display_name": ".venv",
   "language": "python",
   "name": "python3"
  },
  "language_info": {
   "codemirror_mode": {
    "name": "ipython",
    "version": 3
   },
   "file_extension": ".py",
   "mimetype": "text/x-python",
   "name": "python",
   "nbconvert_exporter": "python",
   "pygments_lexer": "ipython3",
   "version": "3.11.9"
  }
 },
 "nbformat": 4,
 "nbformat_minor": 5
}
